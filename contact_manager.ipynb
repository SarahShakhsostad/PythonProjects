{
 "cells": [
  {
   "cell_type": "code",
   "execution_count": 13,
   "metadata": {},
   "outputs": [],
   "source": [
    "import json\n",
    "\n",
    "class ContactManager:\n",
    "      def __init__(self, path=\"-\"):\n",
    "             self.contact_list = []\n",
    "\n",
    "             if path != \"-\":\n",
    "                  try:\n",
    "                        print(\"Loading previous contacts...\")\n",
    "                        with open(path, \"r\") as f:\n",
    "                              data = f.read()\n",
    "                              self.contact_list = json.loads(data)\n",
    "                        print(\"loaded successfuliy.\")\n",
    "                  except (FileNotFoundError, json.JSONDecodeError):\n",
    "                   print(\"No previous data found or invalid JSON format.\")\n",
    "\n",
    "      def add(self, name, number):\n",
    "           for item in self.contact_list:\n",
    "                if name.lower() in item[\"name\"].lower():\n",
    "                      print(\"A contact with this name already exists.\")\n",
    "                      return\n",
    "                \n",
    "                       \n",
    "           self.contact_list.append({\n",
    "                  \"name\": name,\n",
    "                  \"number\": number\n",
    "            })\n",
    "\n",
    "      def search(self, name):\n",
    "         #  result = []\n",
    "         #   for item in self.contact_list:\n",
    "         #      if name.lower() in item[\"name\"].lower():\n",
    "         #           result.append(item)\n",
    "           result = [item for item in self.contact_list if name.lower() in item[\"name\"].lower()]\n",
    "\n",
    "           print(\"Search results:\", result if result else \"No matching contacts found.\")\n",
    "          \n",
    "          \n",
    "\n",
    "      def backup(self):\n",
    "            with open(\"./contact_list.json\",\"w\") as f:\n",
    "                  f.write(json.dumps(self.contact_list))\n",
    "                  # json.dump(self.contact_list, f, indent=4)\n",
    "                  print(\"Backup saved to contact_list.json\")\n",
    "\n",
    "      def show_contacts(self):\n",
    "            print(\"your contacts are:\", self.contact_list)\n",
    "\n",
    "\n",
    "      def edit(self, name, new_number):\n",
    "           for item in self.contact_list:\n",
    "                if name.lower() == item[\"name\"].lower():\n",
    "                  item[\"number\"] = new_number\n",
    "                  print(f\"Contact '{name}' updated successfully.\")\n",
    "                  return\n",
    "                \n",
    "           print(\"A contact with this name does not exist.\")"
   ]
  },
  {
   "cell_type": "code",
   "execution_count": 14,
   "metadata": {},
   "outputs": [
    {
     "name": "stdout",
     "output_type": "stream",
     "text": [
      "Loading previous contacts...\n",
      "No previous data found or invalid JSON format.\n",
      "your contacts are: []\n"
     ]
    }
   ],
   "source": [
    "my_contacts = ContactManager(path = \"./contact_list.json\")\n",
    "\n",
    "my_contacts.show_contacts()"
   ]
  },
  {
   "cell_type": "code",
   "execution_count": 15,
   "metadata": {},
   "outputs": [
    {
     "name": "stdout",
     "output_type": "stream",
     "text": [
      "your contacts are: [{'name': 'Hassan', 'number': '1111'}]\n"
     ]
    }
   ],
   "source": [
    "my_contacts.add(\"Hassan\", \"1111\")\n",
    "\n",
    "my_contacts.show_contacts()\n"
   ]
  },
  {
   "cell_type": "code",
   "execution_count": 16,
   "metadata": {},
   "outputs": [
    {
     "name": "stdout",
     "output_type": "stream",
     "text": [
      "A contact with this name already exists.\n",
      "your contacts are: [{'name': 'Hassan', 'number': '1111'}]\n"
     ]
    }
   ],
   "source": [
    "my_contacts.add(\"Hassan\", \"6666\")\n",
    "\n",
    "my_contacts.show_contacts()"
   ]
  },
  {
   "cell_type": "code",
   "execution_count": 17,
   "metadata": {},
   "outputs": [
    {
     "name": "stdout",
     "output_type": "stream",
     "text": [
      "your contacts are: [{'name': 'Hassan', 'number': '1111'}, {'name': 'Maryam', 'number': '5555'}]\n"
     ]
    }
   ],
   "source": [
    "my_contacts.add(\"Maryam\", \"5555\")\n",
    "my_contacts.show_contacts()"
   ]
  },
  {
   "cell_type": "code",
   "execution_count": 18,
   "metadata": {},
   "outputs": [
    {
     "name": "stdout",
     "output_type": "stream",
     "text": [
      "Contact 'Maryam' updated successfully.\n",
      "your contacts are: [{'name': 'Hassan', 'number': '1111'}, {'name': 'Maryam', 'number': '7777'}]\n"
     ]
    }
   ],
   "source": [
    "my_contacts.edit(\"Maryam\", \"7777\")\n",
    "my_contacts.show_contacts()"
   ]
  },
  {
   "cell_type": "code",
   "execution_count": 19,
   "metadata": {},
   "outputs": [
    {
     "name": "stdout",
     "output_type": "stream",
     "text": [
      "your contacts are: [{'name': 'Hassan', 'number': '1111'}, {'name': 'Maryam', 'number': '7777'}, {'name': 'Behnam', 'number': '2222'}]\n"
     ]
    }
   ],
   "source": [
    "my_contacts.add(\"Behnam\", \"2222\")\n",
    "\n",
    "my_contacts.show_contacts()"
   ]
  },
  {
   "cell_type": "code",
   "execution_count": 20,
   "metadata": {},
   "outputs": [
    {
     "name": "stdout",
     "output_type": "stream",
     "text": [
      "A contact with this name does not exist.\n",
      "your contacts are: [{'name': 'Hassan', 'number': '1111'}, {'name': 'Maryam', 'number': '7777'}, {'name': 'Behnam', 'number': '2222'}]\n"
     ]
    }
   ],
   "source": [
    "my_contacts.edit(\"Reza\", \"3333\")\n",
    "my_contacts.show_contacts()"
   ]
  },
  {
   "cell_type": "code",
   "execution_count": 21,
   "metadata": {},
   "outputs": [
    {
     "name": "stdout",
     "output_type": "stream",
     "text": [
      "Search results: [{'name': 'Maryam', 'number': '7777'}, {'name': 'Behnam', 'number': '2222'}]\n"
     ]
    }
   ],
   "source": [
    "my_contacts.search(\"m\")"
   ]
  },
  {
   "cell_type": "code",
   "execution_count": 22,
   "metadata": {},
   "outputs": [
    {
     "name": "stdout",
     "output_type": "stream",
     "text": [
      "Backup saved to contact_list.json\n"
     ]
    }
   ],
   "source": [
    "my_contacts.backup()"
   ]
  }
 ],
 "metadata": {
  "kernelspec": {
   "display_name": "base",
   "language": "python",
   "name": "python3"
  },
  "language_info": {
   "codemirror_mode": {
    "name": "ipython",
    "version": 3
   },
   "file_extension": ".py",
   "mimetype": "text/x-python",
   "name": "python",
   "nbconvert_exporter": "python",
   "pygments_lexer": "ipython3",
   "version": "3.11.9"
  }
 },
 "nbformat": 4,
 "nbformat_minor": 2
}
